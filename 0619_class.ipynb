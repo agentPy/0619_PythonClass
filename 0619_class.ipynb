{
 "cells": [
  {
   "cell_type": "markdown",
   "metadata": {},
   "source": [
    "## 1. 關於運算\n"
   ]
  },
  {
   "cell_type": "code",
   "execution_count": 1,
   "metadata": {},
   "outputs": [
    {
     "data": {
      "text/plain": [
       "2"
      ]
     },
     "execution_count": 1,
     "metadata": {},
     "output_type": "execute_result"
    }
   ],
   "source": [
    "1 + 1"
   ]
  },
  {
   "cell_type": "markdown",
   "metadata": {},
   "source": [
    "### 要怎麼記下這個結果呢?\n",
    "    我們使用變數 :"
   ]
  },
  {
   "cell_type": "code",
   "execution_count": 2,
   "metadata": {},
   "outputs": [
    {
     "data": {
      "text/plain": [
       "2"
      ]
     },
     "execution_count": 2,
     "metadata": {},
     "output_type": "execute_result"
    }
   ],
   "source": [
    "result = 1 + 1\n",
    "result"
   ]
  },
  {
   "cell_type": "code",
   "execution_count": 3,
   "metadata": {},
   "outputs": [
    {
     "data": {
      "text/plain": [
       "4"
      ]
     },
     "execution_count": 3,
     "metadata": {},
     "output_type": "execute_result"
    }
   ],
   "source": [
    "result + 2"
   ]
  },
  {
   "cell_type": "markdown",
   "metadata": {},
   "source": [
    "### 賦值運算\n",
    "    result就是我們使用的變數，可以用來記錄任何運算結果，而等號 = 在這裡並非相等的意思，而是一種\"指派\"的動作，這會將等號右邊的值指派給左邊，也就是將result儲存2"
   ]
  },
  {
   "cell_type": "markdown",
   "metadata": {},
   "source": [
    "## 2. 關於變數\n",
    "\n",
    "  變數就好比一個容器，能狗儲存各式運算結果，但是變數的命名仍不能隨便亂取，要遵從以下規則 :\n",
    "1. 以底線或英文字母開頭自符\n",
    "2. 以底線、英文字母和數字為後續自符\n",
    "3. 不可與保留字相同\n",
    "4. 大小寫有別\n",
    "    \n",
    "第一點和第二點很好理解，而所謂的保留字是指在Python語言中已經具有意義的字，若是使用這些字做變數，會使編譯器產生混淆，產生錯誤。\n",
    "    \n",
    "首先看下面的例子，都是合法命名 : \n",
    "\n",
    "        result\n",
    "       _result\n",
    "       result_2\n",
    "       Result_2\n",
    "而以下變數是不合法的 :\n",
    "\n",
    "       $result\n",
    "       2_result\n",
    "       for"
   ]
  },
  {
   "cell_type": "markdown",
   "metadata": {},
   "source": [
    "## 3. 資料型態\n",
    "    "
   ]
  },
  {
   "cell_type": "markdown",
   "metadata": {},
   "source": [
    "### 3.1 整數與浮點數\n",
    "    來看一下整數運算的例子 :"
   ]
  },
  {
   "cell_type": "code",
   "execution_count": 4,
   "metadata": {},
   "outputs": [
    {
     "data": {
      "text/plain": [
       "-1"
      ]
     },
     "execution_count": 4,
     "metadata": {},
     "output_type": "execute_result"
    }
   ],
   "source": [
    "2 - 3"
   ]
  },
  {
   "cell_type": "code",
   "execution_count": 5,
   "metadata": {},
   "outputs": [
    {
     "data": {
      "text/plain": [
       "6"
      ]
     },
     "execution_count": 5,
     "metadata": {},
     "output_type": "execute_result"
    }
   ],
   "source": [
    "2 * 3"
   ]
  },
  {
   "cell_type": "code",
   "execution_count": 6,
   "metadata": {},
   "outputs": [
    {
     "data": {
      "text/plain": [
       "1.5"
      ]
     },
     "execution_count": 6,
     "metadata": {},
     "output_type": "execute_result"
    }
   ],
   "source": [
    "6 / 4"
   ]
  },
  {
   "cell_type": "code",
   "execution_count": 7,
   "metadata": {},
   "outputs": [
    {
     "data": {
      "text/plain": [
       "2"
      ]
     },
     "execution_count": 7,
     "metadata": {},
     "output_type": "execute_result"
    }
   ],
   "source": [
    "6 % 4"
   ]
  },
  {
   "cell_type": "code",
   "execution_count": 8,
   "metadata": {},
   "outputs": [
    {
     "data": {
      "text/plain": [
       "64"
      ]
     },
     "execution_count": 8,
     "metadata": {},
     "output_type": "execute_result"
    }
   ],
   "source": [
    "2 ** 6"
   ]
  },
  {
   "cell_type": "markdown",
   "metadata": {},
   "source": [
    "  上例示範了如何做減法(-)、乘法(*)、除法(/)、取餘數(%)和指數運算( $2**6$ 代表 2 的 6 次方!)\n",
    "\n",
    "浮點數也就是小數，基本的運算也包含加減乘除，也能夠取餘數 :"
   ]
  },
  {
   "cell_type": "code",
   "execution_count": 9,
   "metadata": {},
   "outputs": [
    {
     "data": {
      "text/plain": [
       "3.2"
      ]
     },
     "execution_count": 9,
     "metadata": {},
     "output_type": "execute_result"
    }
   ],
   "source": [
    "1.2 + 2"
   ]
  },
  {
   "cell_type": "code",
   "execution_count": 10,
   "metadata": {},
   "outputs": [
    {
     "data": {
      "text/plain": [
       "110.0"
      ]
     },
     "execution_count": 10,
     "metadata": {},
     "output_type": "execute_result"
    }
   ],
   "source": [
    "1.2e2 - 10"
   ]
  },
  {
   "cell_type": "code",
   "execution_count": 11,
   "metadata": {},
   "outputs": [
    {
     "data": {
      "text/plain": [
       "2.909090909090909"
      ]
     },
     "execution_count": 11,
     "metadata": {},
     "output_type": "execute_result"
    }
   ],
   "source": [
    "3.2 / 1.1"
   ]
  },
  {
   "cell_type": "code",
   "execution_count": 12,
   "metadata": {},
   "outputs": [
    {
     "data": {
      "text/plain": [
       "1.0"
      ]
     },
     "execution_count": 12,
     "metadata": {},
     "output_type": "execute_result"
    }
   ],
   "source": [
    "4.2 % 3.2"
   ]
  },
  {
   "cell_type": "markdown",
   "metadata": {},
   "source": [
    "    我們發現，浮點數運算的結果會是浮點數，即使是跟整數一同運算，返回值依然會是浮點數，這是因為Python預設會用比較精確的資料型態，來做為運算的結果。\n",
    "\n",
    "   浮點數也支援科學記號，$1.2e^2$代表的是 : 1.2乘以10的平方，也就是120，減掉10之後結果當然是110.0"
   ]
  },
  {
   "cell_type": "markdown",
   "metadata": {},
   "source": [
    "### 3.2 字串 (String)\n",
    "    我們稱任何一個符號叫做字元，而字元的序列叫做字串，請看以下範例 :"
   ]
  },
  {
   "cell_type": "code",
   "execution_count": 13,
   "metadata": {},
   "outputs": [],
   "source": [
    "string = ''\n",
    "string_a = 'h'\n",
    "string_b = 'ello'"
   ]
  },
  {
   "cell_type": "code",
   "execution_count": 14,
   "metadata": {},
   "outputs": [
    {
     "data": {
      "text/plain": [
       "'hello'"
      ]
     },
     "execution_count": 14,
     "metadata": {},
     "output_type": "execute_result"
    }
   ],
   "source": [
    "string_a + string_b"
   ]
  },
  {
   "cell_type": "markdown",
   "metadata": {},
   "source": [
    "    ''(沒有內容的字串稱為\"空字串\")、'h'、'ello'、'hello'都是字串，字串必須以成對的引號刮住，例如'hello'、\"hello\"是一樣的。\n",
    "這個機制可以方便我們寫出含有引號的字串如 :"
   ]
  },
  {
   "cell_type": "code",
   "execution_count": 15,
   "metadata": {},
   "outputs": [],
   "source": [
    "string_c = \"it's a good day!\"\n",
    "string_d = 'My name is \"dokelung\".'"
   ]
  },
  {
   "cell_type": "code",
   "execution_count": 16,
   "metadata": {},
   "outputs": [
    {
     "data": {
      "text/plain": [
       "\"it's a good day!\""
      ]
     },
     "execution_count": 16,
     "metadata": {},
     "output_type": "execute_result"
    }
   ],
   "source": [
    "string_c"
   ]
  },
  {
   "cell_type": "code",
   "execution_count": 17,
   "metadata": {},
   "outputs": [
    {
     "data": {
      "text/plain": [
       "'My name is \"dokelung\".'"
      ]
     },
     "execution_count": 17,
     "metadata": {},
     "output_type": "execute_result"
    }
   ],
   "source": [
    "string_d"
   ]
  },
  {
   "cell_type": "markdown",
   "metadata": {},
   "source": [
    "而加號對於字串型態而言並非加法，而是串接，所以string_a + string_b的結果是'hello'。"
   ]
  },
  {
   "cell_type": "markdown",
   "metadata": {},
   "source": [
    "## 3.3 清單(List)\n",
    "    清單，它是一個序列，我們能夠存放任何型態的資料在我們的清單中 :"
   ]
  },
  {
   "cell_type": "code",
   "execution_count": 18,
   "metadata": {},
   "outputs": [],
   "source": [
    "list_1 =['統一期貨',35,string_d]"
   ]
  },
  {
   "cell_type": "markdown",
   "metadata": {},
   "source": [
    "清單的特徵是中括號內可以放任意數量的元素，彼此以逗號(,)隔開。\n",
    "\n",
    "list_1這個清單長度是3，有三個元素，第一個元素是一個字串，第二個元數是整數，第三個是上一小節的變數，若我們想要取出這些元素，可以這樣做 :"
   ]
  },
  {
   "cell_type": "code",
   "execution_count": 19,
   "metadata": {},
   "outputs": [
    {
     "data": {
      "text/plain": [
       "'統一期貨'"
      ]
     },
     "execution_count": 19,
     "metadata": {},
     "output_type": "execute_result"
    }
   ],
   "source": [
    "list_1[0]"
   ]
  },
  {
   "cell_type": "code",
   "execution_count": 20,
   "metadata": {},
   "outputs": [
    {
     "data": {
      "text/plain": [
       "35"
      ]
     },
     "execution_count": 20,
     "metadata": {},
     "output_type": "execute_result"
    }
   ],
   "source": [
    "list_1[1]"
   ]
  },
  {
   "cell_type": "code",
   "execution_count": 21,
   "metadata": {},
   "outputs": [
    {
     "data": {
      "text/plain": [
       "'My name is \"dokelung\".'"
      ]
     },
     "execution_count": 21,
     "metadata": {},
     "output_type": "execute_result"
    }
   ],
   "source": [
    "list_1[-1]"
   ]
  },
  {
   "cell_type": "markdown",
   "metadata": {},
   "source": [
    "如果想要取出清單的一部份(子清單) ，也可以這樣操作 :"
   ]
  },
  {
   "cell_type": "code",
   "execution_count": 22,
   "metadata": {},
   "outputs": [
    {
     "data": {
      "text/plain": [
       "[35, 'My name is \"dokelung\".']"
      ]
     },
     "execution_count": 22,
     "metadata": {},
     "output_type": "execute_result"
    }
   ],
   "source": [
    "list_1[1:]"
   ]
  },
  {
   "cell_type": "markdown",
   "metadata": {},
   "source": [
    "也可以輕易地凱便清單中的元素 :"
   ]
  },
  {
   "cell_type": "code",
   "execution_count": 23,
   "metadata": {},
   "outputs": [],
   "source": [
    "list_1[1] = 1000"
   ]
  },
  {
   "cell_type": "code",
   "execution_count": 24,
   "metadata": {},
   "outputs": [
    {
     "data": {
      "text/plain": [
       "['統一期貨', 1000, 'My name is \"dokelung\".']"
      ]
     },
     "execution_count": 24,
     "metadata": {},
     "output_type": "execute_result"
    }
   ],
   "source": [
    "list_1"
   ]
  },
  {
   "cell_type": "markdown",
   "metadata": {},
   "source": [
    "## 3.4 清單的好處\n",
    "比如說我們要記錄班上同學的成績\n",
    "   \n",
    "不使用清單的情況 :"
   ]
  },
  {
   "cell_type": "code",
   "execution_count": 25,
   "metadata": {},
   "outputs": [],
   "source": [
    "score_1 = 90\n",
    "score_2 = 99\n",
    "score_3 = 45\n",
    "score_4 = 63"
   ]
  },
  {
   "cell_type": "markdown",
   "metadata": {},
   "source": [
    "這樣的做法雖然沒錯，但是當要記錄的數量一多，不知道要撰寫多少個變數才夠，相反的可以使用清單 :"
   ]
  },
  {
   "cell_type": "code",
   "execution_count": 26,
   "metadata": {},
   "outputs": [],
   "source": [
    "score = [90,99,45,63]"
   ]
  },
  {
   "cell_type": "markdown",
   "metadata": {},
   "source": [
    "減少變數數量是使用清單的好處\n",
    "\n",
    "接著來算算看成績總和，如果不用清單 :"
   ]
  },
  {
   "cell_type": "code",
   "execution_count": 27,
   "metadata": {},
   "outputs": [],
   "source": [
    "total_1 = score_1 + score_2 +score_3 +score_4"
   ]
  },
  {
   "cell_type": "code",
   "execution_count": 28,
   "metadata": {},
   "outputs": [
    {
     "data": {
      "text/plain": [
       "297"
      ]
     },
     "execution_count": 28,
     "metadata": {},
     "output_type": "execute_result"
    }
   ],
   "source": [
    "total_1"
   ]
  },
  {
   "cell_type": "markdown",
   "metadata": {},
   "source": [
    "會發現由於變數繁多，必須花大量時間跟空間寫出變數名稱。"
   ]
  },
  {
   "cell_type": "code",
   "execution_count": 29,
   "metadata": {},
   "outputs": [],
   "source": [
    "total_2 = sum(score)"
   ]
  },
  {
   "cell_type": "code",
   "execution_count": 30,
   "metadata": {},
   "outputs": [
    {
     "data": {
      "text/plain": [
       "297"
      ]
     },
     "execution_count": 30,
     "metadata": {},
     "output_type": "execute_result"
    }
   ],
   "source": [
    "total_2"
   ]
  },
  {
   "cell_type": "markdown",
   "metadata": {},
   "source": [
    "很簡單的透過sum這個函式(後面會介紹)，就能加總score這個清單中所有的元素了 !"
   ]
  },
  {
   "cell_type": "markdown",
   "metadata": {},
   "source": [
    "## 4. 流程控制\n",
    "通常我們的程式，會被Python由上而下地執行，但是常常會碰到需改變這種單調流程的時候，這時候我們就需要控制流程的方法，也就是本節要說明的主題。\n",
    "### 4.1 有條件的運算\n",
    "首先，最常見需要控制的場合會出現在有條件的運算上，例如說我們想要用月份判定季節 :\n",
    "\n",
    "    如果 3<= month <=5的話\n",
    "        print('現在是春季')\n",
    "我們發現並不是所有的情形都需要印出'現在是春季'，只有當某些條件滿足時，該行才被執行，如果程式只能由上而下執行，就無法完成這個目標，所以我們需要能夠進行有條件的運算，**如果**這個字就是重點，只是我們用英文的 **if** :"
   ]
  },
  {
   "cell_type": "code",
   "execution_count": 31,
   "metadata": {},
   "outputs": [],
   "source": [
    "month = 5"
   ]
  },
  {
   "cell_type": "code",
   "execution_count": 32,
   "metadata": {},
   "outputs": [
    {
     "name": "stdout",
     "output_type": "stream",
     "text": [
      "現在是春季\n"
     ]
    }
   ],
   "source": [
    "if 3<= month <= 5:\n",
    "    print('現在是春季')"
   ]
  },
  {
   "cell_type": "markdown",
   "metadata": {},
   "source": [
    "**if** 的用法就是這麼簡單，不過整個 **if** 的文法還有幾點要好好說明 :\n",
    "\n",
    "    if 條件 :\n",
    "        區塊程式碼\n",
    "在 **if** 的後面需要緊跟著一個條件，條件後要加上冒號，若該條件成立(True)，則下方的程式碼將會被執行，否則會略過往下執行程式。\n",
    "\n",
    "屬於該 **if** 的區塊程式碼，每一行都要以相同的縮排陳列，一但縮排不一致，將會導致程式執行錯誤 :\n",
    " "
   ]
  },
  {
   "cell_type": "code",
   "execution_count": 33,
   "metadata": {},
   "outputs": [],
   "source": [
    "month = 6"
   ]
  },
  {
   "cell_type": "code",
   "execution_count": 34,
   "metadata": {},
   "outputs": [
    {
     "name": "stdout",
     "output_type": "stream",
     "text": [
      "這裡在if區塊之外\n"
     ]
    }
   ],
   "source": [
    "if 3<= month <= 5:\n",
    "    print('現在是春季')\n",
    "    print('一年之計在於春')\n",
    "print('這裡在if區塊之外')"
   ]
  },
  {
   "cell_type": "markdown",
   "metadata": {},
   "source": [
    "有時候條件不會這麼簡單，這時就可以搭配 **else** ，當 **if** 條件成立，屬於 **else** 的區塊不會被執行，反之亦然。"
   ]
  },
  {
   "cell_type": "code",
   "execution_count": 35,
   "metadata": {},
   "outputs": [],
   "source": [
    "month = 4"
   ]
  },
  {
   "cell_type": "code",
   "execution_count": 36,
   "metadata": {},
   "outputs": [
    {
     "name": "stdout",
     "output_type": "stream",
     "text": [
      "現在是春季\n"
     ]
    }
   ],
   "source": [
    "if 3<= month <= 5:\n",
    "    print('現在是春季')\n",
    "else:\n",
    "    print('現在不是春季')"
   ]
  },
  {
   "cell_type": "code",
   "execution_count": null,
   "metadata": {},
   "outputs": [],
   "source": []
  }
 ],
 "metadata": {
  "kernelspec": {
   "display_name": "Python 3",
   "language": "python",
   "name": "python3"
  },
  "language_info": {
   "codemirror_mode": {
    "name": "ipython",
    "version": 3
   },
   "file_extension": ".py",
   "mimetype": "text/x-python",
   "name": "python",
   "nbconvert_exporter": "python",
   "pygments_lexer": "ipython3",
   "version": "3.7.0"
  }
 },
 "nbformat": 4,
 "nbformat_minor": 2
}
